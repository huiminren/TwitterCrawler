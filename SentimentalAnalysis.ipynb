{
 "cells": [
  {
   "cell_type": "code",
   "execution_count": 1,
   "metadata": {
    "collapsed": false
   },
   "outputs": [],
   "source": [
    "from vaderSentiment.vaderSentiment import SentimentIntensityAnalyzer\n",
    "import pandas as pd\n",
    "import numpy as np"
   ]
  },
  {
   "cell_type": "code",
   "execution_count": 2,
   "metadata": {
    "collapsed": true
   },
   "outputs": [],
   "source": [
    "def getSent(msg):\n",
    "    return SentimentIntensityAnalyzer().polarity_scores(msg.replace('\\n',' '))['compound']"
   ]
  },
  {
   "cell_type": "code",
   "execution_count": 6,
   "metadata": {
    "collapsed": false
   },
   "outputs": [
    {
     "data": {
      "text/plain": [
       "0.3612"
      ]
     },
     "execution_count": 6,
     "metadata": {},
     "output_type": "execute_result"
    }
   ],
   "source": [
    "test_sentence = \"I like you.\"\n",
    "getSent(test_sentence)"
   ]
  },
  {
   "cell_type": "code",
   "execution_count": 59,
   "metadata": {
    "collapsed": false
   },
   "outputs": [],
   "source": [
    "neuro_twitter = pd.read_csv(\"neurodiveristy3.csv\")\n",
    "co_twitter = pd.read_csv(\"all_companies_twitter.csv\")"
   ]
  },
  {
   "cell_type": "code",
   "execution_count": 60,
   "metadata": {
    "collapsed": false
   },
   "outputs": [
    {
     "name": "stdout",
     "output_type": "stream",
     "text": [
      "(12764, 8)\n"
     ]
    },
    {
     "data": {
      "text/html": [
       "<div>\n",
       "<table border=\"1\" class=\"dataframe\">\n",
       "  <thead>\n",
       "    <tr style=\"text-align: right;\">\n",
       "      <th></th>\n",
       "      <th>id</th>\n",
       "      <th>username</th>\n",
       "      <th>DateTime</th>\n",
       "      <th>content</th>\n",
       "      <th>likes</th>\n",
       "      <th>retweet</th>\n",
       "      <th>replies</th>\n",
       "      <th>image</th>\n",
       "    </tr>\n",
       "  </thead>\n",
       "  <tbody>\n",
       "    <tr>\n",
       "      <th>0</th>\n",
       "      <td>0</td>\n",
       "      <td>cindymillet8</td>\n",
       "      <td>12/29/15 12:14</td>\n",
       "      <td>A2 Having leaders in the realm of #Neurodivers...</td>\n",
       "      <td>3</td>\n",
       "      <td>7</td>\n",
       "      <td>0</td>\n",
       "      <td>NaN</td>\n",
       "    </tr>\n",
       "    <tr>\n",
       "      <th>1</th>\n",
       "      <td>1</td>\n",
       "      <td>kristienhens</td>\n",
       "      <td>12/29/15 12:12</td>\n",
       "      <td>I can't even begin to fathom the can of worms ...</td>\n",
       "      <td>4</td>\n",
       "      <td>5</td>\n",
       "      <td>1</td>\n",
       "      <td>NaN</td>\n",
       "    </tr>\n",
       "    <tr>\n",
       "      <th>2</th>\n",
       "      <td>2</td>\n",
       "      <td>Aspertools</td>\n",
       "      <td>12/29/15 12:08</td>\n",
       "      <td>Innovative website on #autism and its neoadvoc...</td>\n",
       "      <td>1</td>\n",
       "      <td>0</td>\n",
       "      <td>0</td>\n",
       "      <td>NaN</td>\n",
       "    </tr>\n",
       "    <tr>\n",
       "      <th>3</th>\n",
       "      <td>3</td>\n",
       "      <td>diffbrains</td>\n",
       "      <td>12/29/15 11:43</td>\n",
       "      <td>.@lindapoitevin great share, especially the fi...</td>\n",
       "      <td>1</td>\n",
       "      <td>0</td>\n",
       "      <td>0</td>\n",
       "      <td>NaN</td>\n",
       "    </tr>\n",
       "    <tr>\n",
       "      <th>4</th>\n",
       "      <td>4</td>\n",
       "      <td>GreggBeratan</td>\n",
       "      <td>12/29/15 10:50</td>\n",
       "      <td>Please support this project w. an end of year ...</td>\n",
       "      <td>5</td>\n",
       "      <td>4</td>\n",
       "      <td>0</td>\n",
       "      <td>NaN</td>\n",
       "    </tr>\n",
       "  </tbody>\n",
       "</table>\n",
       "</div>"
      ],
      "text/plain": [
       "   id      username        DateTime  \\\n",
       "0   0  cindymillet8  12/29/15 12:14   \n",
       "1   1  kristienhens  12/29/15 12:12   \n",
       "2   2    Aspertools  12/29/15 12:08   \n",
       "3   3    diffbrains  12/29/15 11:43   \n",
       "4   4  GreggBeratan  12/29/15 10:50   \n",
       "\n",
       "                                             content  likes  retweet  replies  \\\n",
       "0  A2 Having leaders in the realm of #Neurodivers...      3        7        0   \n",
       "1  I can't even begin to fathom the can of worms ...      4        5        1   \n",
       "2  Innovative website on #autism and its neoadvoc...      1        0        0   \n",
       "3  .@lindapoitevin great share, especially the fi...      1        0        0   \n",
       "4  Please support this project w. an end of year ...      5        4        0   \n",
       "\n",
       "  image  \n",
       "0   NaN  \n",
       "1   NaN  \n",
       "2   NaN  \n",
       "3   NaN  \n",
       "4   NaN  "
      ]
     },
     "execution_count": 60,
     "metadata": {},
     "output_type": "execute_result"
    }
   ],
   "source": [
    "print(neuro_twitter.shape)\n",
    "neuro_twitter.head()"
   ]
  },
  {
   "cell_type": "code",
   "execution_count": 62,
   "metadata": {
    "collapsed": false
   },
   "outputs": [
    {
     "name": "stdout",
     "output_type": "stream",
     "text": [
      "(416, 9)\n"
     ]
    },
    {
     "data": {
      "text/html": [
       "<div>\n",
       "<table border=\"1\" class=\"dataframe\">\n",
       "  <thead>\n",
       "    <tr style=\"text-align: right;\">\n",
       "      <th></th>\n",
       "      <th>ID</th>\n",
       "      <th>username</th>\n",
       "      <th>DateTime</th>\n",
       "      <th>content</th>\n",
       "      <th>likes</th>\n",
       "      <th>retweet</th>\n",
       "      <th>replies</th>\n",
       "      <th>image</th>\n",
       "      <th>company</th>\n",
       "    </tr>\n",
       "  </thead>\n",
       "  <tbody>\n",
       "    <tr>\n",
       "      <th>0</th>\n",
       "      <td>0</td>\n",
       "      <td>LeesaVlahosMP</td>\n",
       "      <td>10/25/16 9:10</td>\n",
       "      <td>@Apple support vision hearing physical motor n...</td>\n",
       "      <td>0</td>\n",
       "      <td>1</td>\n",
       "      <td>0</td>\n",
       "      <td>NaN</td>\n",
       "      <td>apple</td>\n",
       "    </tr>\n",
       "    <tr>\n",
       "      <th>1</th>\n",
       "      <td>1</td>\n",
       "      <td>dontdismyabilit</td>\n",
       "      <td>9/3/16 9:28</td>\n",
       "      <td>Doesn't matter how great you are if no one can...</td>\n",
       "      <td>3</td>\n",
       "      <td>7</td>\n",
       "      <td>0</td>\n",
       "      <td>https://pbs.twimg.com/media/CrcVFSRWcAApAbE.jpg</td>\n",
       "      <td>apple</td>\n",
       "    </tr>\n",
       "    <tr>\n",
       "      <th>2</th>\n",
       "      <td>2</td>\n",
       "      <td>Rom_Duck</td>\n",
       "      <td>5/11/16 8:38</td>\n",
       "      <td>#FollowMe Rom_duck  #entrepreneurship #happyTi...</td>\n",
       "      <td>1</td>\n",
       "      <td>0</td>\n",
       "      <td>0</td>\n",
       "      <td>NaN</td>\n",
       "      <td>apple</td>\n",
       "    </tr>\n",
       "    <tr>\n",
       "      <th>3</th>\n",
       "      <td>3</td>\n",
       "      <td>kit_boyer</td>\n",
       "      <td>4/4/16 21:32</td>\n",
       "      <td>Apple's new film shows how tech transforms liv...</td>\n",
       "      <td>0</td>\n",
       "      <td>0</td>\n",
       "      <td>0</td>\n",
       "      <td>https://pbs.twimg.com/media/CfQJKdaWQAI0m61.jpg</td>\n",
       "      <td>apple</td>\n",
       "    </tr>\n",
       "    <tr>\n",
       "      <th>4</th>\n",
       "      <td>4</td>\n",
       "      <td>jrtgirl35</td>\n",
       "      <td>4/2/16 13:37</td>\n",
       "      <td>@tim_cook thankyou for promoting #AutismAccept...</td>\n",
       "      <td>0</td>\n",
       "      <td>0</td>\n",
       "      <td>0</td>\n",
       "      <td>NaN</td>\n",
       "      <td>apple</td>\n",
       "    </tr>\n",
       "  </tbody>\n",
       "</table>\n",
       "</div>"
      ],
      "text/plain": [
       "   ID         username       DateTime  \\\n",
       "0   0    LeesaVlahosMP  10/25/16 9:10   \n",
       "1   1  dontdismyabilit    9/3/16 9:28   \n",
       "2   2         Rom_Duck   5/11/16 8:38   \n",
       "3   3        kit_boyer   4/4/16 21:32   \n",
       "4   4        jrtgirl35   4/2/16 13:37   \n",
       "\n",
       "                                             content  likes  retweet  replies  \\\n",
       "0  @Apple support vision hearing physical motor n...      0        1        0   \n",
       "1  Doesn't matter how great you are if no one can...      3        7        0   \n",
       "2  #FollowMe Rom_duck  #entrepreneurship #happyTi...      1        0        0   \n",
       "3  Apple's new film shows how tech transforms liv...      0        0        0   \n",
       "4  @tim_cook thankyou for promoting #AutismAccept...      0        0        0   \n",
       "\n",
       "                                             image company  \n",
       "0                                              NaN   apple  \n",
       "1  https://pbs.twimg.com/media/CrcVFSRWcAApAbE.jpg   apple  \n",
       "2                                              NaN   apple  \n",
       "3  https://pbs.twimg.com/media/CfQJKdaWQAI0m61.jpg   apple  \n",
       "4                                              NaN   apple  "
      ]
     },
     "execution_count": 62,
     "metadata": {},
     "output_type": "execute_result"
    }
   ],
   "source": [
    "print(co_twitter.shape)\n",
    "co_twitter.head()"
   ]
  },
  {
   "cell_type": "code",
   "execution_count": 63,
   "metadata": {
    "collapsed": true
   },
   "outputs": [],
   "source": [
    "neuro_twitter['Sentiment']=neuro_twitter.content.map(getSent)\n",
    "co_twitter['Sentiment']=co_twitter.content.map(getSent)"
   ]
  },
  {
   "cell_type": "code",
   "execution_count": 64,
   "metadata": {
    "collapsed": false
   },
   "outputs": [
    {
     "data": {
      "text/html": [
       "<div>\n",
       "<table border=\"1\" class=\"dataframe\">\n",
       "  <thead>\n",
       "    <tr style=\"text-align: right;\">\n",
       "      <th></th>\n",
       "      <th>id</th>\n",
       "      <th>username</th>\n",
       "      <th>DateTime</th>\n",
       "      <th>content</th>\n",
       "      <th>likes</th>\n",
       "      <th>retweet</th>\n",
       "      <th>replies</th>\n",
       "      <th>image</th>\n",
       "      <th>Sentiment</th>\n",
       "    </tr>\n",
       "  </thead>\n",
       "  <tbody>\n",
       "    <tr>\n",
       "      <th>0</th>\n",
       "      <td>0</td>\n",
       "      <td>cindymillet8</td>\n",
       "      <td>12/29/15 12:14</td>\n",
       "      <td>A2 Having leaders in the realm of #Neurodivers...</td>\n",
       "      <td>3</td>\n",
       "      <td>7</td>\n",
       "      <td>0</td>\n",
       "      <td>NaN</td>\n",
       "      <td>0.6597</td>\n",
       "    </tr>\n",
       "    <tr>\n",
       "      <th>1</th>\n",
       "      <td>1</td>\n",
       "      <td>kristienhens</td>\n",
       "      <td>12/29/15 12:12</td>\n",
       "      <td>I can't even begin to fathom the can of worms ...</td>\n",
       "      <td>4</td>\n",
       "      <td>5</td>\n",
       "      <td>1</td>\n",
       "      <td>NaN</td>\n",
       "      <td>0.0000</td>\n",
       "    </tr>\n",
       "    <tr>\n",
       "      <th>2</th>\n",
       "      <td>2</td>\n",
       "      <td>Aspertools</td>\n",
       "      <td>12/29/15 12:08</td>\n",
       "      <td>Innovative website on #autism and its neoadvoc...</td>\n",
       "      <td>1</td>\n",
       "      <td>0</td>\n",
       "      <td>0</td>\n",
       "      <td>NaN</td>\n",
       "      <td>0.4404</td>\n",
       "    </tr>\n",
       "    <tr>\n",
       "      <th>3</th>\n",
       "      <td>3</td>\n",
       "      <td>diffbrains</td>\n",
       "      <td>12/29/15 11:43</td>\n",
       "      <td>.@lindapoitevin great share, especially the fi...</td>\n",
       "      <td>1</td>\n",
       "      <td>0</td>\n",
       "      <td>0</td>\n",
       "      <td>NaN</td>\n",
       "      <td>0.8484</td>\n",
       "    </tr>\n",
       "    <tr>\n",
       "      <th>4</th>\n",
       "      <td>4</td>\n",
       "      <td>GreggBeratan</td>\n",
       "      <td>12/29/15 10:50</td>\n",
       "      <td>Please support this project w. an end of year ...</td>\n",
       "      <td>5</td>\n",
       "      <td>4</td>\n",
       "      <td>0</td>\n",
       "      <td>NaN</td>\n",
       "      <td>0.6124</td>\n",
       "    </tr>\n",
       "  </tbody>\n",
       "</table>\n",
       "</div>"
      ],
      "text/plain": [
       "   id      username        DateTime  \\\n",
       "0   0  cindymillet8  12/29/15 12:14   \n",
       "1   1  kristienhens  12/29/15 12:12   \n",
       "2   2    Aspertools  12/29/15 12:08   \n",
       "3   3    diffbrains  12/29/15 11:43   \n",
       "4   4  GreggBeratan  12/29/15 10:50   \n",
       "\n",
       "                                             content  likes  retweet  replies  \\\n",
       "0  A2 Having leaders in the realm of #Neurodivers...      3        7        0   \n",
       "1  I can't even begin to fathom the can of worms ...      4        5        1   \n",
       "2  Innovative website on #autism and its neoadvoc...      1        0        0   \n",
       "3  .@lindapoitevin great share, especially the fi...      1        0        0   \n",
       "4  Please support this project w. an end of year ...      5        4        0   \n",
       "\n",
       "  image  Sentiment  \n",
       "0   NaN     0.6597  \n",
       "1   NaN     0.0000  \n",
       "2   NaN     0.4404  \n",
       "3   NaN     0.8484  \n",
       "4   NaN     0.6124  "
      ]
     },
     "execution_count": 64,
     "metadata": {},
     "output_type": "execute_result"
    }
   ],
   "source": [
    "neuro_twitter.head()"
   ]
  },
  {
   "cell_type": "code",
   "execution_count": 65,
   "metadata": {
    "collapsed": false
   },
   "outputs": [
    {
     "data": {
      "text/html": [
       "<div>\n",
       "<table border=\"1\" class=\"dataframe\">\n",
       "  <thead>\n",
       "    <tr style=\"text-align: right;\">\n",
       "      <th></th>\n",
       "      <th>ID</th>\n",
       "      <th>username</th>\n",
       "      <th>DateTime</th>\n",
       "      <th>content</th>\n",
       "      <th>likes</th>\n",
       "      <th>retweet</th>\n",
       "      <th>replies</th>\n",
       "      <th>image</th>\n",
       "      <th>company</th>\n",
       "      <th>Sentiment</th>\n",
       "    </tr>\n",
       "  </thead>\n",
       "  <tbody>\n",
       "    <tr>\n",
       "      <th>0</th>\n",
       "      <td>0</td>\n",
       "      <td>LeesaVlahosMP</td>\n",
       "      <td>10/25/16 9:10</td>\n",
       "      <td>@Apple support vision hearing physical motor n...</td>\n",
       "      <td>0</td>\n",
       "      <td>1</td>\n",
       "      <td>0</td>\n",
       "      <td>NaN</td>\n",
       "      <td>apple</td>\n",
       "      <td>0.5719</td>\n",
       "    </tr>\n",
       "    <tr>\n",
       "      <th>1</th>\n",
       "      <td>1</td>\n",
       "      <td>dontdismyabilit</td>\n",
       "      <td>9/3/16 9:28</td>\n",
       "      <td>Doesn't matter how great you are if no one can...</td>\n",
       "      <td>3</td>\n",
       "      <td>7</td>\n",
       "      <td>0</td>\n",
       "      <td>https://pbs.twimg.com/media/CrcVFSRWcAApAbE.jpg</td>\n",
       "      <td>apple</td>\n",
       "      <td>-0.6776</td>\n",
       "    </tr>\n",
       "    <tr>\n",
       "      <th>2</th>\n",
       "      <td>2</td>\n",
       "      <td>Rom_Duck</td>\n",
       "      <td>5/11/16 8:38</td>\n",
       "      <td>#FollowMe Rom_duck  #entrepreneurship #happyTi...</td>\n",
       "      <td>1</td>\n",
       "      <td>0</td>\n",
       "      <td>0</td>\n",
       "      <td>NaN</td>\n",
       "      <td>apple</td>\n",
       "      <td>0.0000</td>\n",
       "    </tr>\n",
       "    <tr>\n",
       "      <th>3</th>\n",
       "      <td>3</td>\n",
       "      <td>kit_boyer</td>\n",
       "      <td>4/4/16 21:32</td>\n",
       "      <td>Apple's new film shows how tech transforms liv...</td>\n",
       "      <td>0</td>\n",
       "      <td>0</td>\n",
       "      <td>0</td>\n",
       "      <td>https://pbs.twimg.com/media/CfQJKdaWQAI0m61.jpg</td>\n",
       "      <td>apple</td>\n",
       "      <td>0.0000</td>\n",
       "    </tr>\n",
       "    <tr>\n",
       "      <th>4</th>\n",
       "      <td>4</td>\n",
       "      <td>jrtgirl35</td>\n",
       "      <td>4/2/16 13:37</td>\n",
       "      <td>@tim_cook thankyou for promoting #AutismAccept...</td>\n",
       "      <td>0</td>\n",
       "      <td>0</td>\n",
       "      <td>0</td>\n",
       "      <td>NaN</td>\n",
       "      <td>apple</td>\n",
       "      <td>0.7717</td>\n",
       "    </tr>\n",
       "  </tbody>\n",
       "</table>\n",
       "</div>"
      ],
      "text/plain": [
       "   ID         username       DateTime  \\\n",
       "0   0    LeesaVlahosMP  10/25/16 9:10   \n",
       "1   1  dontdismyabilit    9/3/16 9:28   \n",
       "2   2         Rom_Duck   5/11/16 8:38   \n",
       "3   3        kit_boyer   4/4/16 21:32   \n",
       "4   4        jrtgirl35   4/2/16 13:37   \n",
       "\n",
       "                                             content  likes  retweet  replies  \\\n",
       "0  @Apple support vision hearing physical motor n...      0        1        0   \n",
       "1  Doesn't matter how great you are if no one can...      3        7        0   \n",
       "2  #FollowMe Rom_duck  #entrepreneurship #happyTi...      1        0        0   \n",
       "3  Apple's new film shows how tech transforms liv...      0        0        0   \n",
       "4  @tim_cook thankyou for promoting #AutismAccept...      0        0        0   \n",
       "\n",
       "                                             image company  Sentiment  \n",
       "0                                              NaN   apple     0.5719  \n",
       "1  https://pbs.twimg.com/media/CrcVFSRWcAApAbE.jpg   apple    -0.6776  \n",
       "2                                              NaN   apple     0.0000  \n",
       "3  https://pbs.twimg.com/media/CfQJKdaWQAI0m61.jpg   apple     0.0000  \n",
       "4                                              NaN   apple     0.7717  "
      ]
     },
     "execution_count": 65,
     "metadata": {},
     "output_type": "execute_result"
    }
   ],
   "source": [
    "co_twitter.head()"
   ]
  },
  {
   "cell_type": "code",
   "execution_count": null,
   "metadata": {
    "collapsed": true
   },
   "outputs": [],
   "source": [
    "new_content=[]\n",
    "for c in co_twitter.content:\n",
    "    new_content.append(c.replace(\"\\r\",\"\"))\n",
    "co_twitter.content=new_content"
   ]
  },
  {
   "cell_type": "code",
   "execution_count": 23,
   "metadata": {
    "collapsed": true
   },
   "outputs": [],
   "source": [
    "neuro_twitter.to_csv(\"neuro_twitter_senti.csv\", encoding='utf-8')\n",
    "co_twitter.to_csv(\"co_twitter_senti.csv\", encoding='utf-8')"
   ]
  },
  {
   "cell_type": "code",
   "execution_count": null,
   "metadata": {
    "collapsed": true
   },
   "outputs": [],
   "source": []
  }
 ],
 "metadata": {
  "kernelspec": {
   "display_name": "Python 3",
   "language": "python",
   "name": "python3"
  },
  "language_info": {
   "codemirror_mode": {
    "name": "ipython",
    "version": 3
   },
   "file_extension": ".py",
   "mimetype": "text/x-python",
   "name": "python",
   "nbconvert_exporter": "python",
   "pygments_lexer": "ipython3",
   "version": "3.6.0"
  }
 },
 "nbformat": 4,
 "nbformat_minor": 2
}
